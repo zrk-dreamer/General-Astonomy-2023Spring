{
 "cells": [
  {
   "cell_type": "code",
   "execution_count": 1,
   "id": "09d55ca5",
   "metadata": {},
   "outputs": [],
   "source": [
    "import pandas as pd\n",
    "import numpy as np\n",
    "import math"
   ]
  },
  {
   "cell_type": "code",
   "execution_count": 2,
   "id": "6a465708",
   "metadata": {},
   "outputs": [],
   "source": [
    "df = pd.read_csv(\"C:/Users/ASUS/Virgo_galaxy_catalog.csv\")"
   ]
  },
  {
   "cell_type": "code",
   "execution_count": 3,
   "id": "13065926",
   "metadata": {},
   "outputs": [
    {
     "data": {
      "text/plain": [
       "cz    1036.195281\n",
       "dtype: float64"
      ]
     },
     "execution_count": 3,
     "metadata": {},
     "output_type": "execute_result"
    }
   ],
   "source": [
    "cz_mean = df[[\"cz\"]].mean()\n",
    "cz_mean"
   ]
  },
  {
   "cell_type": "code",
   "execution_count": 4,
   "id": "4050a19c",
   "metadata": {},
   "outputs": [
    {
     "data": {
      "text/plain": [
       "cz    561.449212\n",
       "dtype: float64"
      ]
     },
     "execution_count": 4,
     "metadata": {},
     "output_type": "execute_result"
    }
   ],
   "source": [
    "cz_std = df[[\"cz\"]].std()\n",
    "cz_std"
   ]
  },
  {
   "cell_type": "code",
   "execution_count": 20,
   "id": "15e6e474",
   "metadata": {},
   "outputs": [
    {
     "data": {
      "text/plain": [
       "cz    4.603774e+14\n",
       "dtype: float64"
      ]
     },
     "execution_count": 20,
     "metadata": {},
     "output_type": "execute_result"
    }
   ],
   "source": [
    "def velocity_mass(radius, velocity_std, unit_mass):\n",
    "    pi = math.pi\n",
    "    G_const = 6.6743 * 10 ** -11\n",
    "    mass = (radius * pi * velocity_std ** 2 / G_const) / unit_mass\n",
    "    \n",
    "    return mass\n",
    "\n",
    "R = 2\n",
    "\n",
    "mass_1 = velocity_mass(R * 10 ** 6 * (3.0857 * 10 ** 16), cz_std * 1000, 1.989 * 10 ** 30)\n",
    "mass_1"
   ]
  },
  {
   "cell_type": "code",
   "execution_count": 21,
   "id": "d4df672d",
   "metadata": {},
   "outputs": [
    {
     "data": {
      "text/plain": [
       "zmag    3.303712e+12\n",
       "dtype: float64"
      ]
     },
     "execution_count": 21,
     "metadata": {},
     "output_type": "execute_result"
    }
   ],
   "source": [
    "def light_mass(df, d, reference_mag):\n",
    "    m = df[[\"zmag\"]]\n",
    "    M = m - 5 * np.log10(d) + 5\n",
    "    flux_10pc_ratio = 10 ** ((M - reference_mag) / -2.5)\n",
    "    mass = flux_10pc_ratio * 1\n",
    "    sum_mass = mass.sum()\n",
    "    \n",
    "    return sum_mass\n",
    "\n",
    "d = 20\n",
    "sun_mag = 4.5\n",
    "\n",
    "mass_2 = light_mass(df, d * 10 ** 6, sun_mag)\n",
    "mass_2"
   ]
  },
  {
   "cell_type": "code",
   "execution_count": null,
   "id": "f7c20348",
   "metadata": {},
   "outputs": [],
   "source": []
  },
  {
   "cell_type": "code",
   "execution_count": null,
   "id": "7dedd6d6",
   "metadata": {},
   "outputs": [],
   "source": []
  }
 ],
 "metadata": {
  "kernelspec": {
   "display_name": "Python 3",
   "language": "python",
   "name": "python3"
  },
  "language_info": {
   "codemirror_mode": {
    "name": "ipython",
    "version": 3
   },
   "file_extension": ".py",
   "mimetype": "text/x-python",
   "name": "python",
   "nbconvert_exporter": "python",
   "pygments_lexer": "ipython3",
   "version": "3.8.8"
  }
 },
 "nbformat": 4,
 "nbformat_minor": 5
}
